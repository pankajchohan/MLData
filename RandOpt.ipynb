{
  "nbformat": 4,
  "nbformat_minor": 0,
  "metadata": {
    "colab": {
      "name": "RandOpt.ipynb",
      "provenance": [],
      "authorship_tag": "ABX9TyN45PV45ngTaCdYldLXVVCd",
      "include_colab_link": true
    },
    "kernelspec": {
      "name": "python3",
      "display_name": "Python 3"
    }
  },
  "cells": [
    {
      "cell_type": "markdown",
      "metadata": {
        "id": "view-in-github",
        "colab_type": "text"
      },
      "source": [
        "<a href=\"https://colab.research.google.com/github/pankajchohan/MLData/blob/main/RandOpt.ipynb\" target=\"_parent\"><img src=\"https://colab.research.google.com/assets/colab-badge.svg\" alt=\"Open In Colab\"/></a>"
      ]
    },
    {
      "cell_type": "code",
      "metadata": {
        "colab": {
          "base_uri": "https://localhost:8080/"
        },
        "id": "ffkxKQP7OKvb",
        "outputId": "f85bb2d9-5e6f-4024-f0ec-7537a6c44e18"
      },
      "source": [
        "pip install mlrose"
      ],
      "execution_count": 3,
      "outputs": [
        {
          "output_type": "stream",
          "text": [
            "Collecting mlrose\n",
            "  Downloading https://files.pythonhosted.org/packages/0d/f8/79e77a40f6e8988e3ecc9ead8a28024ee43df9c99fce2209037c9e6f9e4a/mlrose-1.3.0-py3-none-any.whl\n",
            "Requirement already satisfied: sklearn in /usr/local/lib/python3.7/dist-packages (from mlrose) (0.0)\n",
            "Requirement already satisfied: numpy in /usr/local/lib/python3.7/dist-packages (from mlrose) (1.19.5)\n",
            "Requirement already satisfied: scipy in /usr/local/lib/python3.7/dist-packages (from mlrose) (1.4.1)\n",
            "Requirement already satisfied: scikit-learn in /usr/local/lib/python3.7/dist-packages (from sklearn->mlrose) (0.22.2.post1)\n",
            "Requirement already satisfied: joblib>=0.11 in /usr/local/lib/python3.7/dist-packages (from scikit-learn->sklearn->mlrose) (1.0.1)\n",
            "Installing collected packages: mlrose\n",
            "Successfully installed mlrose-1.3.0\n"
          ],
          "name": "stdout"
        }
      ]
    },
    {
      "cell_type": "code",
      "metadata": {
        "colab": {
          "base_uri": "https://localhost:8080/"
        },
        "id": "igZ6BcMnOfQH",
        "outputId": "463d4bc3-0bf4-46fd-ac74-fad14a35ab39"
      },
      "source": [
        "pip install six"
      ],
      "execution_count": 4,
      "outputs": [
        {
          "output_type": "stream",
          "text": [
            "Requirement already satisfied: six in /usr/local/lib/python3.7/dist-packages (1.15.0)\n"
          ],
          "name": "stdout"
        }
      ]
    },
    {
      "cell_type": "code",
      "metadata": {
        "colab": {
          "base_uri": "https://localhost:8080/"
        },
        "id": "x3eRznR9Nozf",
        "outputId": "4f64ee5e-6eee-4cb0-9b34-bbaa7b68b6b3"
      },
      "source": [
        "import mlrose\r\n",
        "import numpy as np\r\n",
        "\r\n",
        "from sklearn.model_selection import train_test_split\r\n",
        "from sklearn.preprocessing import MinMaxScaler\r\n",
        "from sklearn.metrics import accuracy_score\r\n",
        "import time\r\n",
        "import timeit\r\n",
        "\r\n",
        "\r\n",
        "# This Python 3 environment comes with many helpful analytics libraries installed\r\n",
        "# It is defined by the kaggle/python docker image: https://github.com/kaggle/docker-python\r\n",
        "# For example, here's several helpful packages to load in \r\n",
        "import time\r\n",
        "import numpy as np # linear algebra\r\n",
        "import pandas as pd # data processing, CSV file I/O (e.g. pd.read_csv)\r\n",
        "import os\r\n",
        "from sklearn.tree import DecisionTreeClassifier\r\n",
        "from sklearn.neighbors import KNeighborsClassifier\r\n",
        "from sklearn.model_selection import cross_val_score\r\n",
        "from sklearn.neural_network import MLPClassifier\r\n",
        "from sklearn import ensemble\r\n",
        "from sklearn import svm\r\n",
        "import random\r\n",
        "import matplotlib.pyplot as plt\r\n",
        "from sklearn.model_selection import GridSearchCV\r\n",
        "from sklearn.preprocessing import StandardScaler\r\n",
        "import math\r\n",
        "import matplotlib.ticker as plticker\r\n",
        "import matplotlib.patches as mpatches\r\n",
        "import matplotlib.lines as mlines\r\n",
        "from sklearn.metrics import classification_report\r\n",
        "from sklearn.metrics import confusion_matrix\r\n",
        "from sklearn import metrics \r\n",
        "from sklearn.ensemble import AdaBoostClassifier\r\n",
        "import matplotlib.cm as cm\r\n",
        "from matplotlib.colors import Normalize\r\n",
        "print(\"Finished installing modules.\")"
      ],
      "execution_count": 10,
      "outputs": [
        {
          "output_type": "stream",
          "text": [
            "Finished installing modules.\n"
          ],
          "name": "stdout"
        }
      ]
    },
    {
      "cell_type": "code",
      "metadata": {
        "id": "rTuumj2bPCYX"
      },
      "source": [
        "#List of all the functions\r\n",
        "\r\n",
        "outlier_threshold = 0\r\n",
        "test_time_list = []\r\n",
        "train_time_list = []\r\n",
        "accuracy_list = []\r\n",
        "lof = ['fixed acidity','volatile acidity','citric acid','residual sugar','chlorides','free sulfur dioxide',\r\n",
        "       'total sulfur dioxide','density','pH','sulphates','alcohol']\r\n",
        "def get_data():\r\n",
        "  url = 'https://raw.githubusercontent.com/pankajchohan/MLData/main/winequality-white.csv'\r\n",
        "  df = pd.read_csv(url, delimiter=\";\")\r\n",
        "  print(\"Finished GetData\")\r\n",
        "  return df\r\n",
        "\r\n",
        "def split_test(df):\r\n",
        "  print(\"Start Split test\")\r\n",
        "  X = df.drop(['quality_class','quality'], axis=1)\r\n",
        "  y = df['quality_class']\r\n",
        "  print(\"End Split test\")\r\n",
        "  return train_test_split(X, y, test_size = 0.2, random_state = 1)\r\n",
        "\r\n",
        "def process_train_test_Data(X_train, X_test):\r\n",
        "  cols = X_train.columns\r\n",
        "  scaler = StandardScaler()\r\n",
        "  X_train = scaler.fit_transform(X_train)\r\n",
        "  X_test = scaler.transform(X_test)\r\n",
        "  X_train = pd.DataFrame(X_train, columns=[cols])\r\n",
        "  X_test = pd.DataFrame(X_test, columns=[cols])\r\n",
        "  return X_train, X_test\r\n",
        "\r\n",
        "def get_quality(row):\r\n",
        "   if  row['quality'] < 6:\r\n",
        "      return 0\r\n",
        "   elif 6 <= row['quality'] :\r\n",
        "      return 1\r\n",
        "\r\n",
        "def add_quality_class(df):\r\n",
        "  df['quality_class'] = df.apply(lambda row: get_quality(row), axis=1)\r\n",
        "  print(\"finished add quality class\")\r\n",
        "  return df\r\n",
        "\r\n",
        "def find_ooutlier(df, n, features):\r\n",
        "    outlier_indices = []\r\n",
        "    for col in features:\r\n",
        "        quart1 = np.percentile(df[col], 25)\r\n",
        "        quart3 = np.percentile(df[col], 75)\r\n",
        "        inqrate = quart3 - quart1\r\n",
        "        stp_out = 1.5 * inqrate\r\n",
        "        outlier_list_col = df[(df[col] < quart1 - stp_out) | (df[col] > quart3 + stp_out)].index\r\n",
        "        outlier_indices.extend(outlier_list_col)\r\n",
        "    outlier_indices = Counter(outlier_indices)\r\n",
        "    multiple_outliers = list(k for k, v in outlier_indices.items() if v > n)\r\n",
        "\r\n",
        "    return multiple_outliers\r\n",
        "\r\n",
        "def remove_outliers(df):\r\n",
        "  outliers_to_drop = find_ooutlier(df, outlier_threshold, lof)\r\n",
        "  print(df.shape)\r\n",
        "  df = df.drop(outliers_to_drop)\r\n",
        "  return df\r\n",
        "\r\n",
        "def resampling(df):\r\n",
        "  target_count = df.quality_class.value_counts()\r\n",
        "  print('Class 0:', target_count[0])\r\n",
        "  print('Class 1:', target_count[1])\r\n",
        "\r\n",
        "  count_class_1, count_class_0 = df.quality_class.value_counts()\r\n",
        "\r\n",
        "  df_class_0 = df[df['quality_class'] == 0]\r\n",
        "  df_class_1 = df[df['quality_class'] == 1]\r\n",
        "\r\n",
        "  df_class_0_over = df_class_0.sample(count_class_1, replace=True)\r\n",
        "  df_test_over = pd.concat([df_class_1, df_class_0_over], axis=0)\r\n",
        "\r\n",
        "  print('Random over-sampling:')\r\n",
        "  print(df_test_over.quality_class.value_counts())\r\n",
        "\r\n",
        "  # df_test_over.quality_class.value_counts().plot(kind='bar', title='Count (quality_class)');\r\n",
        "  df = df_test_over.copy()\r\n",
        "  plt.figure(figsize=(10, 5))\r\n",
        "  plot = df['quality_class'].value_counts().plot(kind=\"bar\")\r\n",
        "  plot.set_ylabel(\"Number of samples\", fontsize=15)\r\n",
        "  plot.set_xlabel(\"Classes\", fontsize=15)\r\n",
        "  plot.set_title(\"Class distribution Wine Quality\", fontsize=15)\r\n",
        "  plot.tick_params(labelsize = 15)\r\n",
        "  plot.set_xticklabels([\"Good\", \"Bad\"], rotation='horizontal', va='top')\r\n",
        "  plt.savefig(\"00_ClassDist_Balanced_Wine.png\", pad_inches = 0.01)\r\n",
        "  return df\r\n",
        "\r\n",
        "def raw_data():\r\n",
        "  df=get_data()\r\n",
        "  df = add_quality_class(df)\r\n",
        "  X_train, X_test, y_train, y_test = split_test(df)\r\n",
        "  X_train, X_test = process_train_test_Data(X_train, X_test)\r\n",
        "  return df, X_train, X_test, y_train, y_test\r\n",
        "\r\n",
        "def processed_data():\r\n",
        "  df=get_data()\r\n",
        "  df = add_quality_class(df)\r\n",
        "  df = remove_outliers(df)\r\n",
        "  df = resampling(df)\r\n",
        "  print(df.shape)\r\n",
        "  X_train, X_test, y_train, y_test = split_test(df)\r\n",
        "  X_train, X_test = process_train_test_Data(X_train, X_test)\r\n",
        "  return df, X_train, X_test, y_train, y_test\r\n",
        "\r\n",
        "def plot_conf_matrix(model, X_train, X_test, y_train, y_test, parameters, fig_name, scoring='accuracy',\r\n",
        "                     cv=10, n_jobs=-1, verbose=True):\r\n",
        "    # clf = GridSearchCV(model, parameters, cv=cv, n_jobs=n_jobs, verbose=verbose)\r\n",
        "    clf = GridSearchCV(model, parameters, cv=3, scoring='accuracy', n_jobs=8, verbose=3, refit=True)\r\n",
        "    clf.fit(X_train, y_train)\r\n",
        "\r\n",
        "    print(clf)\r\n",
        "    # clf.fit(X_train, y_train)\r\n",
        "    print(\"Best parameters set found on development set:\")\r\n",
        "    print()\r\n",
        "    print(clf.best_params_)\r\n",
        "    print()\r\n",
        "    print(\"Grid scores on development set:\")\r\n",
        "    print()\r\n",
        "    means = clf.cv_results_['mean_test_score']\r\n",
        "    stds = clf.cv_results_['std_test_score']\r\n",
        "    y_true, y_pred = y_test, clf.predict(X_test)\r\n",
        "    print(classification_report(y_true, y_pred))\r\n",
        "    conf_matrix = confusion_matrix(y_true, y_pred)\r\n",
        "    conf_matrix = conf_matrix / np.sum(conf_matrix, axis=1)[:, np.newaxis]\r\n",
        "    plot = plt.figure(figsize=(10, 10))\r\n",
        "    ax = plot.add_subplot(111)\r\n",
        "    ax.matshow(conf_matrix, cmap='Blues_r')\r\n",
        "    plt.xlabel(\"Predicted Label\", fontsize=30)\r\n",
        "    plt.ylabel(\"True Label\", fontsize=30)\r\n",
        "    ax.set_xticklabels(clf.classes_, rotation='vertical', va='top')\r\n",
        "    ax.set_yticklabels(clf.classes_,  rotation='horizontal', va='baseline')\r\n",
        "    ax.xaxis.set_ticks_position('bottom')\r\n",
        "    plt.tick_params(labelsize = 15)\r\n",
        "    for (i, j), z in np.ndenumerate(conf_matrix):\r\n",
        "        if i == j:\r\n",
        "          color = 'red'\r\n",
        "        else:\r\n",
        "          color = 'black'\r\n",
        "        ax.text(j, i, '{:0.2f}'.format(z), ha='center', va='center', color=color, fontsize=20)\r\n",
        "    accuracy_score(y_true, y_pred)\r\n",
        "    plt.savefig(fig_name, pad_inches = 0.01,  bbox_inches = 'tight')\r\n",
        "    return clf\r\n",
        "def plot_learning_curve(train_sizes, train_scores, test_scores, fit_times, fig_name):\r\n",
        "    train_scores_mean = np.mean(train_scores, axis=1)\r\n",
        "    train_scores_std = np.std(train_scores, axis=1)\r\n",
        "    test_scores_mean = np.mean(test_scores, axis=1)\r\n",
        "    test_scores_std = np.std(test_scores, axis=1)\r\n",
        "    fit_times_mean = np.mean(fit_times, axis=1)\r\n",
        "    fit_times_std = np.std(fit_times, axis=1)\r\n",
        "    # Plot learning curve\r\n",
        "    plt.figure(figsize=(10, 10))\r\n",
        "    plt.plot(train_sizes, train_scores_mean, 'o-', color=\"darkorange\",\r\n",
        "                  label=\"Training score\")\r\n",
        "    plt.plot(train_sizes, test_scores_mean, 'o-', color=\"navy\",\r\n",
        "                  label=\"Cross-validation score\")\r\n",
        "    plt.fill_between(train_sizes, train_scores_mean - train_scores_std,\r\n",
        "                          train_scores_mean + train_scores_std, alpha=0.1,\r\n",
        "                          color=\"darkorange\")\r\n",
        "    plt.fill_between(train_sizes, test_scores_mean - test_scores_std,\r\n",
        "                          test_scores_mean + test_scores_std, alpha=0.1,\r\n",
        "                          color=\"navy\")\r\n",
        "    plt.legend(loc=\"best\", fontsize=20)\r\n",
        "    #plt.title(\"LC Decision Tree (Wine)\", fontsize=30)\r\n",
        "    plt.xlabel(\"Training Samples\", fontsize=30)\r\n",
        "    plt.ylabel(\"Accuracy\", fontsize=30)\r\n",
        "    plt.tick_params(labelsize = 20)\r\n",
        "    plt.ylim((0.45,1.05))\r\n",
        "    plt.savefig(fig_name, pad_inches = 0.01,  bbox_inches = 'tight')\r\n",
        "\r\n",
        "def plot_validation_curve(train_scores, test_scores, fig_name, param_name, param_range):\r\n",
        "    train_scores_mean = np.mean(train_scores, axis=1)\r\n",
        "    train_scores_std = np.std(train_scores, axis=1)\r\n",
        "    test_scores_mean = np.mean(test_scores, axis=1)\r\n",
        "    test_scores_std = np.std(test_scores, axis=1)\r\n",
        "    plt.figure(figsize=(10, 10))\r\n",
        "    lw = 2\r\n",
        "    plt.plot(param_range, train_scores_mean, label=\"Training score\",\r\n",
        "             color=\"darkorange\", lw=lw)\r\n",
        "    plt.fill_between(param_range, train_scores_mean - train_scores_std,\r\n",
        "                 train_scores_mean + train_scores_std, alpha=0.2,\r\n",
        "                 color=\"darkorange\", lw=lw)\r\n",
        "    plt.plot(param_range, test_scores_mean, label=\"Cross-validation score\",\r\n",
        "             color=\"navy\", lw=lw)\r\n",
        "    plt.fill_between(param_range, test_scores_mean - test_scores_std,\r\n",
        "                 test_scores_mean + test_scores_std, alpha=0.2,\r\n",
        "                 color=\"navy\", lw=lw)\r\n",
        "    plt.legend(loc=\"best\", fontsize=20)\r\n",
        "    #plt.title(\"VC Decision Tree (Wine)\", fontsize=30)\r\n",
        "    plt.xlabel(param_name, fontsize=15)\r\n",
        "    plt.ylabel(\"Accuracy\", fontsize=15)\r\n",
        "    plt.tick_params(labelsize = 10)\r\n",
        "    plt.ylim((0.41,1.05))\r\n",
        "    plt.savefig(fig_name, pad_inches = 0.01,  bbox_inches = 'tight')\r\n"
      ],
      "execution_count": 14,
      "outputs": []
    },
    {
      "cell_type": "code",
      "metadata": {
        "id": "yjzXQqO4TdRQ"
      },
      "source": [
        "eval_df = pd.DataFrame(columns=[\"model\", \"recall\", \"accuracy\", \"precision\"])\r\n",
        "(big_df, nn_train_x, nn_test_x, nn_train_y, nn_test_y) = raw_data()"
      ],
      "execution_count": null,
      "outputs": []
    },
    {
      "cell_type": "code",
      "metadata": {
        "id": "t86vt-klYwfW"
      },
      "source": [
        "def randomized_train_nn(rando_algo, train_x, train_y, test_x, test_y, accuracies, times, max_iters=100, max_attempts=3, \r\n",
        "                        early_stopping=False, mutation_prob=0.1, hidden_nodes=[5,5], pop_size=200, to_print=False):\r\n",
        "    nn_model = mlrose.NeuralNetwork(hidden_nodes = hidden_nodes, activation = 'tanh', \\\r\n",
        "                                     algorithm = rando_algo, max_iters = max_iters, \\\r\n",
        "                                     bias = True, is_classifier = True, learning_rate = 0.1,\r\n",
        "                                     clip_max = 5, max_attempts = max_attempts, random_state = 3,curve=True, early_stopping=early_stopping, mutation_prob=mutation_prob,pop_size=pop_size)\r\n",
        "    start = time.time()\r\n",
        "    nn_model.fit(train_x, train_y)\r\n",
        "    end = time.time()\r\n",
        "    time_elapsed = end - start\r\n",
        "    # Predict labels for train set and assess accuracy\r\n",
        "    y_train_pred = nn_model.predict(train_x)\r\n",
        "    #y_train_accuracy = accuracy_score(train_y, y_train_pred)\r\n",
        "    #print(\"{0} y train accuracy: {1}\".format(rando_algo,y_train_accuracy))\r\n",
        "    # Predict labels for test set and assess accuracy\r\n",
        "    y_test_pred = nn_model.predict(test_x)\r\n",
        "    y_test_accuracy = accuracy_score(test_y, y_test_pred)\r\n",
        "    \r\n",
        "    accuracies.append(y_test_accuracy)\r\n",
        "    times.append(time_elapsed)\r\n",
        "\r\n",
        "    if to_print:\r\n",
        "        print(classification_report(test_y, y_test_pred))\r\n",
        "        print(confusion_matrix(test_y, y_test_pred))\r\n",
        "        print(\"{0} y test accuracy: {1}\".format(rando_algo,y_test_accuracy))\r\n",
        "        print(\"{0} time elapsed: {1}\".format(rando_algo,time_elapsed))\r\n",
        "    return nn_model\r\n",
        "\r\n",
        "def iterative_train(times, accuracies, iters_range, problem_text, early_stopping=False, mutation_prob=0.1):\r\n",
        "    nn_model = None\r\n",
        "    for i in iters_range:\r\n",
        "        nn_model = randomized_train_nn(problem_text, nn_train_x, nn_train_y, nn_test_x, nn_test_y, accuracies, times, i, \r\n",
        "                                       early_stopping=early_stopping, mutation_prob=mutation_prob)\r\n",
        "\r\n",
        "    plt.plot(iters_range,times,'o-')\r\n",
        "    plt.title(\"Neural Net Training Time over {0}\".format(problem_text))\r\n",
        "    plt.xlabel(\"Number of iterations\")\r\n",
        "    plt.ylabel(\"Time\")\r\n",
        "    plt.show()\r\n",
        "\r\n",
        "    plt.plot(iters_range,accuracies,'o-')\r\n",
        "    plt.title(\"Neural Net Test Accuracy over {0}\".format(problem_text))\r\n",
        "    plt.xlabel(\"Number of iterations\")\r\n",
        "    plt.ylabel(\"Highest Score\")\r\n",
        "    plt.show()\r\n",
        "    return nn_model"
      ],
      "execution_count": null,
      "outputs": []
    },
    {
      "cell_type": "code",
      "metadata": {
        "colab": {
          "base_uri": "https://localhost:8080/",
          "height": 644
        },
        "id": "-4leXHjKY7DG",
        "outputId": "b430ddf6-f169-4cd2-d551-10173f202501"
      },
      "source": [
        "hc_times = []\r\n",
        "hc_acc = []\r\n",
        "iters_range = range(1, 2200, 200)\r\n",
        "iterative_train(hc_times, hc_acc, iters_range, \"random_hill_climb\")"
      ],
      "execution_count": null,
      "outputs": [
        {
          "output_type": "display_data",
          "data": {
            "image/png": "[encoded data removed]",
            "text/plain": [
              "<Figure size 432x288 with 1 Axes>"
            ]
          },
          "metadata": {
            "tags": [],
            "needs_background": "light"
          }
        },
        {
          "output_type": "display_data",
          "data": {
            "image/png": "[encoded data removed]",
            "text/plain": [
              "<Figure size 432x288 with 1 Axes>"
            ]
          },
          "metadata": {
            "tags": [],
            "needs_background": "light"
          }
        },
        {
          "output_type": "execute_result",
          "data": {
            "text/plain": [
              "NeuralNetwork(bias=True, clip_max=5, early_stopping=False, hidden_nodes=[5, 5],\n",
              "              is_classifier=True, learning_rate=0.1, max_iters=2001,\n",
              "              mutation_prob=0.1, pop_size=200, restarts=0,\n",
              "              schedule=<mlrose.decay.GeomDecay object at 0x7f28db4df610>)"
            ]
          },
          "metadata": {
            "tags": []
          },
          "execution_count": 20
        }
      ]
    },
    {
      "cell_type": "code",
      "metadata": {
        "colab": {
          "base_uri": "https://localhost:8080/",
          "height": 644
        },
        "id": "gOICAMzSZ-ma",
        "outputId": "fcc344a5-d7b6-432d-f3a6-b84336f60b0f"
      },
      "source": [
        "sa_times = []\r\n",
        "sa_accuracies = []\r\n",
        "iters_range = range(1, 2200, 200)\r\n",
        "iterative_train(sa_times, sa_accuracies, iters_range, \"simulated_annealing\")\r\n"
      ],
      "execution_count": null,
      "outputs": [
        {
          "output_type": "display_data",
          "data": {
            "image/png": "[encoded data removed]",
            "text/plain": [
              "<Figure size 432x288 with 1 Axes>"
            ]
          },
          "metadata": {
            "tags": [],
            "needs_background": "light"
          }
        },
        {
          "output_type": "display_data",
          "data": {
            "image/png": "[encoded data removed]",
            "text/plain": [
              "<Figure size 432x288 with 1 Axes>"
            ]
          },
          "metadata": {
            "tags": [],
            "needs_background": "light"
          }
        },
        {
          "output_type": "execute_result",
          "data": {
            "text/plain": [
              "NeuralNetwork(bias=True, clip_max=5, early_stopping=False, hidden_nodes=[5, 5],\n",
              "              is_classifier=True, learning_rate=0.1, max_iters=2001,\n",
              "              mutation_prob=0.1, pop_size=200, restarts=0,\n",
              "              schedule=<mlrose.decay.GeomDecay object at 0x7f28db4df610>)"
            ]
          },
          "metadata": {
            "tags": []
          },
          "execution_count": 22
        }
      ]
    },
    {
      "cell_type": "code",
      "metadata": {
        "colab": {
          "base_uri": "https://localhost:8080/"
        },
        "id": "QW3GagrmatIJ",
        "outputId": "b240189a-adaa-4cc4-a201-e49983f4cd6c"
      },
      "source": [
        "sa_accuracies"
      ],
      "execution_count": null,
      "outputs": [
        {
          "output_type": "execute_result",
          "data": {
            "text/plain": [
              "[0.5530612244897959,\n",
              " 0.5489795918367347,\n",
              " 0.6010204081632653,\n",
              " 0.6693877551020408,\n",
              " 0.686734693877551,\n",
              " 0.7051020408163265,\n",
              " 0.7091836734693877,\n",
              " 0.7234693877551021,\n",
              " 0.7193877551020408,\n",
              " 0.7285714285714285,\n",
              " 0.7346938775510204]"
            ]
          },
          "metadata": {
            "tags": []
          },
          "execution_count": 23
        }
      ]
    },
    {
      "cell_type": "code",
      "metadata": {
        "id": "9x7IP9TujgIs"
      },
      "source": [
        "ga_times = []\r\n",
        "ga_accuracies = []\r\n",
        "iters_range = range(1, 2200, 200)\r\n",
        "iterative_train(ga_times, ga_accuracies, iters_range, \"genetic_alg\")"
      ],
      "execution_count": null,
      "outputs": []
    },
    {
      "cell_type": "code",
      "metadata": {
        "id": "sJzqiHCPjzNS"
      },
      "source": [
        "mimic_times = []\r\n",
        "mimic_accuracies = []\r\n",
        "iters_range = range(1, 2200, 200)\r\n",
        "iterative_train(mimic_times, mimic_accuracies, iters_range, \"mimic\")"
      ],
      "execution_count": null,
      "outputs": []
    },
    {
      "cell_type": "code",
      "metadata": {
        "colab": {
          "base_uri": "https://localhost:8080/"
        },
        "id": "3_wFsC00njNJ",
        "outputId": "6813a930-018f-4c8b-c016-29af0d2fa5f7"
      },
      "source": [
        "nn_rhc_clf = mlrose.NeuralNetwork(hidden_nodes = [30], activation = 'relu', \r\n",
        "                                         bias = True, is_classifier = True, random_state = 11)\r\n",
        "print(nn_rhc_clf)"
      ],
      "execution_count": null,
      "outputs": [
        {
          "output_type": "stream",
          "text": [
            "NeuralNetwork(bias=True, clip_max=10000000000.0, early_stopping=False,\n",
            "              hidden_nodes=[30], is_classifier=True, learning_rate=0.1,\n",
            "              max_iters=100, mutation_prob=0.1, pop_size=200, restarts=0,\n",
            "              schedule=<mlrose.decay.GeomDecay object at 0x7f28db4df610>)\n"
          ],
          "name": "stdout"
        }
      ]
    },
    {
      "cell_type": "code",
      "metadata": {
        "colab": {
          "base_uri": "https://localhost:8080/"
        },
        "id": "Isn5ZBaST5da",
        "outputId": "c776e4a0-c2be-4ce8-8f00-3d3471759ba9"
      },
      "source": [
        "eeg, Xtrain, Xtest, ytrain, ytest = raw_data()"
      ],
      "execution_count": 8,
      "outputs": [
        {
          "output_type": "stream",
          "text": [
            "Finished GetData\n",
            "finished add quality class\n",
            "Start Split test\n",
            "End Split test\n"
          ],
          "name": "stdout"
        }
      ]
    },
    {
      "cell_type": "code",
      "metadata": {
        "colab": {
          "base_uri": "https://localhost:8080/"
        },
        "id": "LoF1zb-GUAMk",
        "outputId": "c47144a9-8ad6-49f7-ccec-b1fc640f8483"
      },
      "source": [
        "start = timeit.default_timer()\r\n",
        "nn_gd = mlrose.NeuralNetwork(hidden_nodes = [120, 70, 30],\r\n",
        "                          activation = 'relu',\r\n",
        "                          algorithm = 'gradient_descent',\r\n",
        "                          max_iters = 1400,\r\n",
        "                          bias = True,\r\n",
        "                          is_classifier = True,\r\n",
        "                          learning_rate = 1.0,\r\n",
        "                          # early_stopping = True,\r\n",
        "                          # clip_max = 10,\r\n",
        "                          # max_attempts = 20,\r\n",
        "                          random_state = 42,\r\n",
        "#                           restarts = restart,\r\n",
        "                          curve = True)\r\n",
        "nn_gd.fit(Xtrain, ytrain)\r\n",
        "end = timeit.default_timer()\r\n",
        "y_pred = nn_gd.predict(Xtest)\r\n",
        "score = accuracy_score(ytest, y_pred)\r\n",
        "elapsed_time = end - start\r\n",
        "results_gd = {'model': nn_gd,\r\n",
        "      'time': elapsed_time,\r\n",
        "      'score': score,\r\n",
        "      'fitness curve': nn_gd.fitness_curve}\r\n",
        "\r\n",
        "results_gd"
      ],
      "execution_count": 15,
      "outputs": [
        {
          "output_type": "stream",
          "text": [
            "/usr/local/lib/python3.7/dist-packages/mlrose/activation.py:77: RuntimeWarning: overflow encountered in exp\n",
            "  fx = 1/(1 + np.exp(-x))\n",
            "/usr/local/lib/python3.7/dist-packages/mlrose/activation.py:77: RuntimeWarning: overflow encountered in exp\n",
            "  fx = 1/(1 + np.exp(-x))\n"
          ],
          "name": "stderr"
        },
        {
          "output_type": "execute_result",
          "data": {
            "text/plain": [
              "{'fitness curve': array([-10.68469422, -22.93769683,  -0.6920857 , ...,  -0.6920857 ,\n",
              "         -0.6920857 ,  -0.6920857 ]),\n",
              " 'model': NeuralNetwork(bias=True, clip_max=10000000000.0, early_stopping=False,\n",
              "               hidden_nodes=[120, 70, 30], is_classifier=True, learning_rate=1.0,\n",
              "               max_iters=1400, mutation_prob=0.1, pop_size=200, restarts=0,\n",
              "               schedule=<mlrose.decay.GeomDecay object at 0x7f51466c8450>),\n",
              " 'score': 0.3326530612244898,\n",
              " 'time': 124.6835687979983}"
            ]
          },
          "metadata": {
            "tags": []
          },
          "execution_count": 15
        }
      ]
    },
    {
      "cell_type": "code",
      "metadata": {
        "colab": {
          "base_uri": "https://localhost:8080/"
        },
        "id": "W37r0PeuU4cK",
        "outputId": "725d74c8-99d2-4245-94f3-855ad19cdb74"
      },
      "source": [
        "restart_list = [5,10,40,80]\r\n",
        "results_rhc = []\r\n",
        "for restart in restart_list:\r\n",
        "    start = timeit.default_timer()\r\n",
        "    print(\"start\", start)\r\n",
        "    nn_rhc = mlrose.NeuralNetwork(hidden_nodes = [40],\r\n",
        "                              activation = 'relu',\r\n",
        "                              algorithm = 'random_hill_climb', \r\n",
        "                              max_iters = 800,\r\n",
        "                              bias = True, \r\n",
        "                              is_classifier = True, \r\n",
        "                              learning_rate = 1,\r\n",
        "                              # early_stopping = True,\r\n",
        "                              # clip_max = 10,\r\n",
        "                              # max_attempts = 20,\r\n",
        "                              random_state = 42,\r\n",
        "                              restarts = restart,\r\n",
        "                              curve = True)\r\n",
        "    nn_rhc.fit(Xtrain, ytrain)\r\n",
        "    end = timeit.default_timer()\r\n",
        "    y_pred = nn_rhc.predict(Xtest)\r\n",
        "    score = accuracy_score(ytest, y_pred)\r\n",
        "    elapsed_time = end - start\r\n",
        "    tmp = {'model': nn_rhc,\r\n",
        "          'time': elapsed_time,\r\n",
        "          'score': score,\r\n",
        "           'restart': restart,\r\n",
        "          'fitness curve': nn_rhc.fitness_curve}\r\n",
        "    results_rhc.append(tmp)\r\n",
        "    print(\"end\", end)\r\n",
        "    print(results_rhc)\r\n"
      ],
      "execution_count": 16,
      "outputs": [
        {
          "output_type": "stream",
          "text": [
            "start 26915.006593968\n",
            "end 26985.387684453\n",
            "[{'model': NeuralNetwork(bias=True, clip_max=10000000000.0, early_stopping=False,\n",
            "              hidden_nodes=[40], is_classifier=True, learning_rate=1,\n",
            "              max_iters=1400, mutation_prob=0.1, pop_size=200, restarts=5,\n",
            "              schedule=<mlrose.decay.GeomDecay object at 0x7f51466c8450>), 'time': 70.38109048499973, 'score': 0.7408163265306122, 'restart': 5, 'fitness curve': array([-1.34317015, -1.34317015, -1.34317015, ..., -0.52085353,\n",
            "       -0.52085353, -0.52085353])}]\n",
            "start 26985.391528031\n",
            "end 27113.371974234\n",
            "[{'model': NeuralNetwork(bias=True, clip_max=10000000000.0, early_stopping=False,\n",
            "              hidden_nodes=[40], is_classifier=True, learning_rate=1,\n",
            "              max_iters=1400, mutation_prob=0.1, pop_size=200, restarts=5,\n",
            "              schedule=<mlrose.decay.GeomDecay object at 0x7f51466c8450>), 'time': 70.38109048499973, 'score': 0.7408163265306122, 'restart': 5, 'fitness curve': array([-1.34317015, -1.34317015, -1.34317015, ..., -0.52085353,\n",
            "       -0.52085353, -0.52085353])}, {'model': NeuralNetwork(bias=True, clip_max=10000000000.0, early_stopping=False,\n",
            "              hidden_nodes=[40], is_classifier=True, learning_rate=1,\n",
            "              max_iters=1400, mutation_prob=0.1, pop_size=200, restarts=10,\n",
            "              schedule=<mlrose.decay.GeomDecay object at 0x7f51466c8450>), 'time': 127.98044620300061, 'score': 0.7336734693877551, 'restart': 10, 'fitness curve': array([-1.34317015, -1.33939079, -1.33501043, ..., -0.54272221,\n",
            "       -0.54272221, -0.54272221])}]\n",
            "start 27113.376252174\n",
            "end 27601.839864368\n",
            "[{'model': NeuralNetwork(bias=True, clip_max=10000000000.0, early_stopping=False,\n",
            "              hidden_nodes=[40], is_classifier=True, learning_rate=1,\n",
            "              max_iters=1400, mutation_prob=0.1, pop_size=200, restarts=5,\n",
            "              schedule=<mlrose.decay.GeomDecay object at 0x7f51466c8450>), 'time': 70.38109048499973, 'score': 0.7408163265306122, 'restart': 5, 'fitness curve': array([-1.34317015, -1.34317015, -1.34317015, ..., -0.52085353,\n",
            "       -0.52085353, -0.52085353])}, {'model': NeuralNetwork(bias=True, clip_max=10000000000.0, early_stopping=False,\n",
            "              hidden_nodes=[40], is_classifier=True, learning_rate=1,\n",
            "              max_iters=1400, mutation_prob=0.1, pop_size=200, restarts=10,\n",
            "              schedule=<mlrose.decay.GeomDecay object at 0x7f51466c8450>), 'time': 127.98044620300061, 'score': 0.7336734693877551, 'restart': 10, 'fitness curve': array([-1.34317015, -1.33939079, -1.33501043, ..., -0.54272221,\n",
            "       -0.54272221, -0.54272221])}, {'model': NeuralNetwork(bias=True, clip_max=10000000000.0, early_stopping=False,\n",
            "              hidden_nodes=[40], is_classifier=True, learning_rate=1,\n",
            "              max_iters=1400, mutation_prob=0.1, pop_size=200, restarts=40,\n",
            "              schedule=<mlrose.decay.GeomDecay object at 0x7f51466c8450>), 'time': 488.46361219400205, 'score': 0.7336734693877551, 'restart': 40, 'fitness curve': array([-1.34199799, -1.34199799, -1.34199799, ..., -0.50644044,\n",
            "       -0.50644044, -0.50644044])}]\n",
            "start 27601.843910648\n",
            "end 28596.446660161\n",
            "[{'model': NeuralNetwork(bias=True, clip_max=10000000000.0, early_stopping=False,\n",
            "              hidden_nodes=[40], is_classifier=True, learning_rate=1,\n",
            "              max_iters=1400, mutation_prob=0.1, pop_size=200, restarts=5,\n",
            "              schedule=<mlrose.decay.GeomDecay object at 0x7f51466c8450>), 'time': 70.38109048499973, 'score': 0.7408163265306122, 'restart': 5, 'fitness curve': array([-1.34317015, -1.34317015, -1.34317015, ..., -0.52085353,\n",
            "       -0.52085353, -0.52085353])}, {'model': NeuralNetwork(bias=True, clip_max=10000000000.0, early_stopping=False,\n",
            "              hidden_nodes=[40], is_classifier=True, learning_rate=1,\n",
            "              max_iters=1400, mutation_prob=0.1, pop_size=200, restarts=10,\n",
            "              schedule=<mlrose.decay.GeomDecay object at 0x7f51466c8450>), 'time': 127.98044620300061, 'score': 0.7336734693877551, 'restart': 10, 'fitness curve': array([-1.34317015, -1.33939079, -1.33501043, ..., -0.54272221,\n",
            "       -0.54272221, -0.54272221])}, {'model': NeuralNetwork(bias=True, clip_max=10000000000.0, early_stopping=False,\n",
            "              hidden_nodes=[40], is_classifier=True, learning_rate=1,\n",
            "              max_iters=1400, mutation_prob=0.1, pop_size=200, restarts=40,\n",
            "              schedule=<mlrose.decay.GeomDecay object at 0x7f51466c8450>), 'time': 488.46361219400205, 'score': 0.7336734693877551, 'restart': 40, 'fitness curve': array([-1.34199799, -1.34199799, -1.34199799, ..., -0.50644044,\n",
            "       -0.50644044, -0.50644044])}, {'model': NeuralNetwork(bias=True, clip_max=10000000000.0, early_stopping=False,\n",
            "              hidden_nodes=[40], is_classifier=True, learning_rate=1,\n",
            "              max_iters=1400, mutation_prob=0.1, pop_size=200, restarts=80,\n",
            "              schedule=<mlrose.decay.GeomDecay object at 0x7f51466c8450>), 'time': 994.6027495130002, 'score': 0.7459183673469387, 'restart': 80, 'fitness curve': array([-1.34317015, -1.34317015, -1.30139478, ..., -0.5192846 ,\n",
            "       -0.5192846 , -0.5192846 ])}]\n"
          ],
          "name": "stdout"
        }
      ]
    }
  ]
}